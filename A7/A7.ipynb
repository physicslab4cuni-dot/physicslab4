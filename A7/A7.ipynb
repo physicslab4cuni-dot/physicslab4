{
 "cells": [
  {
   "cell_type": "code",
   "execution_count": null,
   "id": "afd92c2c-36c9-4b1e-9a77-c356edb9faf8",
   "metadata": {},
   "outputs": [],
   "source": [
    "# TODO: Replace the string \"Your Name\" and \"DD.MM.YYYY\" with the appropriate values.\n",
    "\n",
    "from header import header\n",
    "_ = header(student = \"Your Name\", date = \"DD.MM.YYYY\", task_no = 7)"
   ]
  },
  {
   "cell_type": "markdown",
   "id": "b4496e3e-16e0-4dce-a4ae-5a321e968d91",
   "metadata": {
    "editable": true,
    "jp-MarkdownHeadingCollapsed": true,
    "slideshow": {
     "slide_type": ""
    },
    "tags": []
   },
   "source": [
    "# Pozitronová emisní tomografie\n",
    "\n",
    "Tato laboratorní úloha představuje zjednodušeným způsobem velmi účinnou metodu lékařského zobrazování.\n",
    "Pozitronová emisní tomografie (PET) se používá v lékařské diagnostice i v lékařském výzkumu v neurologii, onkologii, kardiologii a dalších oblastech medicíny.\n",
    "\n",
    "PET lokalizuje místo vzniku gama fotonů v lidském těle.\n",
    "Tyto fotony vznikají v důsledku anihilace pozitronů a elektronů.\n",
    "Pozitrony jsou do těla zavedeny podáním radioaktivní látky a anihilují s elektrony atomů v tkáni.\n",
    "Konfigurace systému detekce fotonů umožňuje 3D rekonstrukci rozložení podané radioaktivní látky v těle.\n",
    "PET tak poskytuje obrazy tkání v závislosti na jejich schopnosti zachycovat tuto látku spíše než anatomické struktury.\n",
    "\n",
    "Detektory jsou uspořádány v kruhu obklopujícím pacienta a registrují vylétávající anihilační fotony.\n",
    "Detektory jsou vybaveny koincidenční elektronikou, takže jsou zaznamenávány pouze dvojice fotonů přilétávajících ve stejném čase.\n",
    "Každý pár fotonů pak může být použit k sestavení přímky procházející tělem.\n",
    "Použitím velkého počtu takových přímek lze rekonstruovat distribuci pozitronových zdrojů v objemu těla.\n",
    "\n",
    "| **Izotop**   | $^{11}C$ | $^{13}N$ | $^{15}O$ | $^{18}F$ | \n",
    "| ------------- | -------- | -------- | -------- | -------- | \n",
    "| **Poločas** | 20 min   | 10 min   | 2 min    | 110 min  | \n",
    "\n",
    "Nejčastější radionuklidy pro PET jsou začleněny do běžných metabolitů, jako je glukóza nebo voda, a podávány pacientovi.\n",
    "Radionuklidy je také možné začlenit do složitějších molekul, jako jsou léky, a použít PET ke sledování cesty léku v těle.\n",
    "\n",
    "### Anihilace pozitronu\n",
    "\n",
    "Pozitron je antičástice k elektronu.\n",
    "Narozdíl od elektronu se v přírodě vyskytuje jen vzácně, protože rychle anihiluje s elektronem.\n",
    "Během anihilace obě částice zmizí a vzniknou dva anihilační fotony.\n",
    "Pozitrony jsou emitovány při $\\beta^+$ rozpadu některých radioizotopů.\n",
    "Při průchodu hmotou pozitrony nejprve ztratí svou kinetickou energii rozptylem, převážně na elektronech v okolní hmotě.\n",
    "Když je kinetická energie pozitronu blízká nule, anihiluje s jedním z blízkých elektronů.\n",
    "Obvykle trvá $10^{-10} - 10^{-7}$ s, než emitovaný pozitron anihiluje, a během této doby urazí nanejvýš několik desetin milimetru.\n",
    "Například $^{22}\\mathrm{Na}$ emituje pozitrony s energií nanejvýš 0,8 MeV a pozitron s touto energií urazí ve vodě maximálně 1 milimetr.\n",
    "Při anihilaci elektron-pozitron vznikají dva fotony.\n",
    "V případě, že pozitron i elektron mají kinetickou energii blízkou nule, je energie anihilačních fotonů rovna součtu klidových hmotností pozitronu a elektronu.\n",
    "Zákon zachování hybnosti vyžaduje, aby celková hybnost fotonů byla prakticky nulová, a proto musí mít stejně velké, ale opačně orientované hybnosti.\n",
    "Velikost hybnosti každého fotonu je $511~\\mathrm{keV/c}$.\n",
    "Střední volná dráha takových fotonů v tkáni je několik centimetrů a ve vodě 7,2 cm.\n",
    "\n",
    "### Koincidenční měření\n",
    "\n",
    "Fyzikální jevy prezentované v této úloze lze studovat koincidenčním měřením.\n",
    "Toto měření je založeno na elektronickém koincidenčním bloku, který vydává signál pouze tehdy, když na vstupy [3] dorazí současně alespoň dva impulsy.\n",
    "Koincidence fyzikálních jevů je rozmazána kvůli fluktuacím tvorby signálu v detektorech a časovému rozlišení koincidenční elektroniky.\n",
    "Časové rozlišení pro koincidenční měření dvou nebo více současných jevů závisí především na rychlosti tvorby signálu v detektorech a u nejmodernější elektroniky dosahuje $10^{-6}$ až $10^{-12}$ s.\n",
    "Koincidence vznikající detekcí obou fotonů z jediné anihilace nazýváme *skutečné koincidence*.\n",
    "Pokud dva pozitrony anihilují náhodou v rámci koincidenčního časového okna, můžeme detekovat koincidenci vznikající v důsledku dvou různých anihilací.\n",
    "Tyto koincidence se nazývají *falešné*.\n",
    "Četnost falešných koincidencí $N_s$ lze vypočítat pomocí (nekorelovaných) četností signálu na dvou detektorech, $N_1$ a $N_2$, a šířky koincidenčního časového okna $\\tau$:\n",
    "$$\n",
    "N_s = 2N_1N_2\\tau\n",
    "$$\n",
    "\n",
    "Pokud máme více detektorů, bude výsledný vztah pro četnost falešných koincidencí vypadat takto:\n",
    "$$\n",
    "N_s = 2^{n-1}N_1N_2\\dots N_n\\tau^{n-1}\n",
    "$$\n"
   ]
  },
  {
   "cell_type": "markdown",
   "id": "aba8f89f-c140-4911-aeb2-f9b8c66beb0b",
   "metadata": {
    "editable": true,
    "slideshow": {
     "slide_type": ""
    },
    "tags": []
   },
   "source": [
    "### Uspořádání experimentu\n",
    "**Obr. 1** ukazuje uspořádání experimentu a používané úhlové proměnné.\n",
    "Zdroje pozitronů ($^{22}\\mathrm{Na}$) jsou umístěny v plastovém držáku ve tvaru lebky, kterým se dá otáčet.\n",
    "Úhel otočení lebky vzhledem ke stolu se měří úhloměrem pro plný rozsah $360~\\mathrm{deg}$ a pevnou šipkou označující směr na stole.\n",
    "Dva Na(TI) scintilační detektory A a B se používají k detekci anihilačních fotonů.\n",
    "\n",
    "Detektory mají konečné rozměry a konečné úhlové rozlišení - mohou detekovat fotony přicházející pod úhlem k ose detektoru.\n",
    "Úhlový interval, ve kterém dochází k registraci fotonu se nazývá *úhlové rozlišení* a omezuje přesnost měření směru fotonů.\n",
    "Signály z obou detektorů jsou - po zesílení a diskriminaci - přiváděny do koincidenčního bloku a dále do koincidenčního počítače.\n",
    "\n",
    "**Obr. 1** Pozitronová emisní tomografie: uspořádání experimentu a používané úhlové proměnné.\n",
    "\n",
    "![Jeden zdroj](one_source.png)\n",
    "\n",
    "### Geometrie experimentu: souřadné systémy\n",
    "\n",
    "**Obr. 1** znázorňuje dva souřadné systémy použité v našem experimentu.\n",
    "První je polární systém souřadnic spojený se stolem.\n",
    "Jeho počátek se shoduje s osou otáčení lebky, a zároveň s osou otáčení ramene, na kterém je upevněný detektor B.\n",
    "V tomto systému jsou měřené souřadnice detektorů A a B.\n",
    "Detektor A je nepohyblivý, a tedy má pevné souřadnice $(R, 180~\\mathrm{deg})$.\n",
    "Detektor B umístěný na otočném rameni délky $R$ má souřadnice $(R, \\phi)$.\n",
    "Druhý souřadný systém je kartézský a je spojen s modelem lebky.\n",
    "Jeho počátek se shoduje s osou otáčení lebky.\n",
    "Cílem této úlohy je určit polohu dvou zdrojů pozitronů vzhledem k této soustavě.\n",
    "Souřadnice detektorů A a B v kartézské soustavě modelu otočené o $\\psi$ vzhledem ke stolu jsou\n",
    "$$\n",
    "x_A = - R \\cos{\\psi} \\quad \\quad x_B = R \\cos{(\\psi + \\phi)}\n",
    "$$\n",
    "$$\n",
    "y_A = - R \\sin{\\psi} \\quad \\quad  y_B = R \\sin{(\\psi + \\phi)} \n",
    "$$\n",
    "Rovnice přímky spojující detektory A a B v kartézské soustavě spojené s lebkou je\n",
    "$$\n",
    "(y_B - y_A)x - (x_B - x_A)y = (y_B - y_A)x_A - (x_B - x_A)y_A.\n",
    "$$"
   ]
  },
  {
   "cell_type": "markdown",
   "id": "89b8b8ff",
   "metadata": {},
   "source": [
    "### Data lebky\n",
    "\n",
    "Nejprve připravíme data pro obrázek lebky, který použijeme ke zobrazení našich výsledků.\n",
    "\n",
    "$\\color{red}{\\textbf{Úkol:}}$ Spusťte následující buňku pro načtení dat lebky."
   ]
  },
  {
   "cell_type": "code",
   "execution_count": null,
   "id": "de5861ec-4739-4b65-bc10-ff76946079f3",
   "metadata": {
    "editable": true,
    "slideshow": {
     "slide_type": ""
    },
    "tags": []
   },
   "outputs": [],
   "source": [
    "# Solution.\n",
    "\n",
    "import numpy as np\n",
    "import pandas as pd\n",
    "import matplotlib.pyplot as plt\n",
    "import matplotlib as mpl\n",
    "import seaborn as sns\n",
    "\n",
    "# Set the notebook directory. If you store the data in a different directory\n",
    "# than this notebook, change the path accordingly.\n",
    "A7_home = \".\"\n",
    "\n",
    "# Read skull data from file for future use\n",
    "data_x = []\n",
    "data_y = []\n",
    "with open(A7_home + \"/skull_x_y.txt\", \"r\") as infile:\n",
    "    for line in infile:\n",
    "        x, y = [float(s) for s in line.split()]\n",
    "        data_x.append(x)\n",
    "        data_y.append(y)\n",
    "skull_data = pd.DataFrame({\"x\": data_x, \"y\": data_y})"
   ]
  },
  {
   "cell_type": "markdown",
   "id": "e9d3e961",
   "metadata": {},
   "source": [
    "# Měření s jediným pozitronovým zdrojem\n",
    "\n",
    "V tomto pracovním úkolu předpokládáme, že anihilační fotony vznikají v jediném bodovém zdroji a vyletují v přesně opačných směrech.\n",
    "V takovém případě pozorujeme skutečné koincidence, pokud se zdroj nachází na přímce spojující detektory A a B.\n"
   ]
  },
  {
   "cell_type": "markdown",
   "id": "21f6460c",
   "metadata": {},
   "source": [
    "\n",
    "### Postup měření\n",
    "\n",
    "Instruktor umístí jeden zdroj $^{22}\\mathrm{Na}$ do modelu lebky.\n",
    "Poté otočte model lebky na $\\psi_1 = 0~\\mathrm{deg}$ a změřte rozdělení četnosti koincidencí v závislosti na úhlu $\\phi$.\n",
    "Poté otočte lebku na $\\psi_2 = 90~\\mathrm{deg}$ a změřte rozdělení četnosti koincidencí opět v závislosti na $\\phi$.\n",
    "V obou případech měřte v dostatečně širokém intervalu úhlů $\\phi$.\n",
    "Polohy maxim těchto dvou rozdělení, $\\phi_1$ a $\\phi_2$, použijeme pro konstrukci přímek procházejících zdrojem.\n",
    "Průsečík těchto přímek určí polohu zdroje v modelu lebky.\n",
    "\n",
    "Akumulační čas nastavte pro každé měření četnosti na 20 s.\n",
    "\n",
    "Formát dat musí být následující:\n",
    "\n",
    "- text sestávající ze tří sloupců oddělených jedním, nebo několika prázdnými znaky (mezera, tabulátor)\n",
    "\n",
    "- první sloupec: úhel $\\psi$ ve stupních\n",
    "\n",
    "- druhý sloupec: úhel $\\phi$ ve stupních\n",
    "\n",
    "- třetí sloupec: počet koincidencí $N$ zaznamenaný během akumulačního času 20 s\n",
    "\n",
    "- první řádek musí obsahovat záhlaví sloupců `psi`, `phi` a `N` oddělené jedním, nebo několika prázdnými znaky (mezera, tabulátor); použijte přesně tato jména sloupců\n"
   ]
  },
  {
   "cell_type": "markdown",
   "id": "89e0d091",
   "metadata": {},
   "source": [
    "$\\color{red}{\\textbf{Úkol:}}$ Změřte dvě úhlová rozdělení popsaná výše. Naměřená data pište do stringu `data_str` níže."
   ]
  },
  {
   "cell_type": "code",
   "execution_count": null,
   "id": "fec3b5b9",
   "metadata": {},
   "outputs": [],
   "source": [
    "# Solution.\n",
    "\n",
    "# TODO: Fill the string below with your data.\n",
    "# The string will look like the following, but with many more lines, of course:\n",
    "# data_str = \"\"\"\n",
    "# psi phi N\n",
    "# 0   -35 5\n",
    "# 0   -31 11\n",
    "# 90  -35 6\n",
    "# 90  -31 10\n",
    "# \"\"\"\n",
    "\n",
    "data_str = \"\"\"\n",
    "psi\tphi\tN\n",
    "\"\"\"\n"
   ]
  },
  {
   "cell_type": "markdown",
   "id": "4ccfacfc",
   "metadata": {},
   "source": [
    "$\\color{red}{\\textbf{Úkol:}}$ Ze stringu obsahujícího vaše data vytvořte pandas DataFrame `data_1`. Do něj přidejte také sloupec `err`, který bude obsahovat neurčitosti počtu koincidencí, které lze odhadnout jako $\\sqrt{N}$. DataFrame `data_1` vypište jako tabulku."
   ]
  },
  {
   "cell_type": "code",
   "execution_count": null,
   "id": "3fcd5113",
   "metadata": {},
   "outputs": [],
   "source": [
    "# Solution.\n",
    "\n",
    "from io import StringIO\n",
    "\n",
    "# Create the pandas dataframe from the string above.\n",
    "data_1 = pd.read_table(StringIO(data_str), sep = \"\\s+\")\n",
    "\n",
    "# Add a column with uncertainties in counts.\n",
    "data_1[\"err\"] = np.sqrt(data_1[\"N\"])\n",
    "\n",
    "# Print data_1 as a table.\n",
    "print(data_1.rename(columns = {\"psi\": \"psi [deg]\", \"phi\": \"phi [deg]\", \"N\": \"N\", \"err\": \"N_unc\"}).to_string(index = False, max_rows = None))\n",
    "\n",
    "\n",
    "# # ---------- SAFE TO IGNORE BELOW THIS LINE ----------\n",
    "# # ALTERNATIVE SOLUTION: Read the data from a file.\n",
    "# # The file has the same format as the `data_str` string above: three columns\n",
    "# # with a header line. The columns are separated by whitespace (spaces or tabs).\n",
    "# # The header line is: \"psi phi N\".\n",
    "\n",
    "# # Path to the data file.\n",
    "# data_file = A7_home + \"/sample_data/set_A/Task1.txt\"\n",
    "\n",
    "# # Read the data of a single source angular profile from a file and convert to a pandas dataframe\n",
    "# data_1 = pd.read_table(data_file, sep = \"\\s+\")\n",
    "# print(data_1.head())\n",
    "# data_1[\"err\"] = np.sqrt(data_1[\"N\"])    # compute uncertainties in counts"
   ]
  },
  {
   "cell_type": "markdown",
   "id": "1f4444ee",
   "metadata": {},
   "source": [
    "$\\color{red}{\\textbf{Úkol:}}$ Vykreslete naměřená data jako bodový graf četnosti koincidencí $N$ v závislosti na úhlu $\\phi$ pro oba úhly $\\psi$."
   ]
  },
  {
   "cell_type": "code",
   "execution_count": null,
   "id": "18e35487",
   "metadata": {},
   "outputs": [],
   "source": [
    "# Solution.\n",
    "\n",
    "# Read the psi values that were used in the experiment.\n",
    "psi_vals = data_1[\"psi\"].unique()\n",
    "\n",
    "# Plot the number of counts vs. phi for all psi values.\n",
    "sns.set_theme(style = \"whitegrid\")\n",
    "fig, ax = plt.subplots(figsize=(8.5, 6.5))\n",
    "sns.scatterplot(data = data_1, x = \"phi\", y = \"N\", hue = \"psi\", palette = sns.color_palette(\"husl\", len(psi_vals)), ax = ax)\n",
    "plt.xlabel(\"$\\\\phi\\\\,(\\\\degree)$\")\n",
    "plt.legend(title = \"$\\\\psi\\\\,(\\\\degree)$\")\n",
    "plt.title(\"Angular profiles of coincidence rates: single source\")"
   ]
  },
  {
   "cell_type": "markdown",
   "id": "3c4e6b77",
   "metadata": {},
   "source": [
    "$\\color{red}{\\textbf{Úkol:}}$ Vysvětlete tvar naměřených úhlových rozdělení počtu koincidencí.\n"
   ]
  },
  {
   "cell_type": "markdown",
   "id": "222050c0",
   "metadata": {},
   "source": [
    "$\\color{red}{\\textbf{Řešení:}}$ "
   ]
  },
  {
   "cell_type": "markdown",
   "id": "2c594cb3",
   "metadata": {},
   "source": [
    "### Fitování dat\n",
    "\n",
    "Nyní určíme polohy maxim naměřených úhlových rozdělení.\n",
    "Na každé úhlové rozdělení nafitujeme funkci, která je součtem normálního rozdělení a konstanty:\n",
    "$$\n",
    "f(\\phi) = bg + amp \\cdot \\exp\\left[-{1\\over2}\\left({\\phi-mean}\\over{width}\\right)^2\\right]\n",
    "$$\n",
    "Nafitované hodnoty parametrů `mean` použijeme jako náš odhad poloh maxim úhlových rozdělení.\n"
   ]
  },
  {
   "cell_type": "markdown",
   "id": "5258d3d5-074f-4a06-ba8d-eae4e920dc98",
   "metadata": {
    "editable": true,
    "slideshow": {
     "slide_type": ""
    },
    "tags": []
   },
   "source": [
    "$\\color{red}{\\textbf{Úkol:}}$ Úhlové rozdělení pro každou hodnotu $\\psi$ nafitujte výše uvedenou funkcí.\n",
    "Nafitované parametry a jejich neurčitosti uveďte v tabulce.\n"
   ]
  },
  {
   "cell_type": "code",
   "execution_count": null,
   "id": "7667134f-a4d2-4984-885f-90899ef06944",
   "metadata": {
    "editable": true,
    "scrolled": true,
    "slideshow": {
     "slide_type": ""
    },
    "tags": []
   },
   "outputs": [],
   "source": [
    "# Solution.\n",
    "\n",
    "# Fit the data.\n",
    "# Store the fit results in a dictionary `fits`.\n",
    "\n",
    "from scipy.optimize import curve_fit\n",
    "\n",
    "def gauss_plus_background(x, bg, amp, mean, w):\n",
    "    \"\"\"\n",
    "    Function returning a gaussian with flat background, \n",
    "    Meaning of parameters is clear from the definition.\n",
    "    \"\"\"\n",
    "    return bg + amp * np.exp(- 1/2 * ((x-mean)/w)**2)\n",
    "\n",
    "psi_vals = data_1[\"psi\"].unique() # psi values used\n",
    "fits = dict.fromkeys(psi_vals)\n",
    "for psi in psi_vals:\n",
    "    data_psi = data_1[data_1[\"psi\"] == psi]\n",
    "    p_opt, p_cov = curve_fit(gauss_plus_background, data_psi[\"phi\"].values, data_psi[\"N\"].values, p0 = [0, max(data_psi[\"N\"]), 0, 20], \n",
    "                                   sigma = data_psi[\"err\"].values, absolute_sigma = True)\n",
    "    p_err = np.sqrt(np.diag(p_cov))\n",
    "    errXerr = np.outer(p_err, p_err)\n",
    "    p_corr = p_cov / errXerr\n",
    "    fits[psi] = {\"parameters\": p_opt, \"par_errors\": p_err, \"correlations\" : p_corr}\n",
    "\n",
    "# Print a table of results.\n",
    "# Unicode works in pandas tables.\n",
    "fits_table = pd.DataFrame({\n",
    "    \"𝜓 (⁰)\" : psi_vals,\n",
    "    \"bg\" : [fits[psi][\"parameters\"][0] for psi in psi_vals],\n",
    "    \"s(bg)\" : [fits[psi][\"par_errors\"][0] for psi in psi_vals],\n",
    "    \"amp\" : [fits[psi][\"parameters\"][1] for psi in psi_vals],\n",
    "    \"s(amp)\" : [fits[psi][\"par_errors\"][1] for psi in psi_vals],\n",
    "    \"mean (⁰)\" : [fits[psi][\"parameters\"][2] for psi in psi_vals],\n",
    "    \"s(mean) (⁰)\" : [fits[psi][\"par_errors\"][2] for psi in psi_vals],\n",
    "    \"width (⁰)\" : [fits[psi][\"parameters\"][3] for psi in psi_vals],\n",
    "    \"s(width) (⁰)\" : [fits[psi][\"par_errors\"][3] for psi in psi_vals]\n",
    "})\n",
    "fits_table.style.format(precision = 2).set_caption(\"Parameters of Gaussian fits to  profiles of coincidence rates\")"
   ]
  },
  {
   "cell_type": "markdown",
   "id": "dc0c198d",
   "metadata": {},
   "source": [
    "$\\color{red}{\\textbf{Úkol:}}$ Do DataFrame `data_1` přidejte:\n",
    "\n",
    "- sloupec `N_fit`, který bude obsahovat hodnoty fitované funkce v bodech $\\phi$,\n",
    "\n",
    "- sloupec `residual`, který bude obsahovat veličinu $(N - N_\\mathrm{fit}) / \\sqrt{N_\\mathrm{fit}}$, tzv. reziduály.\n",
    "\n",
    "Do dictionary `fits` přidejte hodnotu $\\chi^2$, `chisq` a počet stupňů volnosti, `df`, pro každý fit."
   ]
  },
  {
   "cell_type": "code",
   "execution_count": null,
   "id": "aa78227c-9bb0-432b-8efe-4e3c7758cc26",
   "metadata": {
    "editable": true,
    "scrolled": true,
    "slideshow": {
     "slide_type": ""
    },
    "tags": []
   },
   "outputs": [],
   "source": [
    "# Solution.\n",
    "\n",
    "def add_fitted_to_data(data):\n",
    "    '''\n",
    "    Adds fitted values and residuals to data points.\n",
    "    Also adds chi2 and df to the fits dictionary.\n",
    "    '''\n",
    "    result = data.copy()\n",
    "    psi = np.mean(result[\"psi\"])\n",
    "    parameters = fits[psi][\"parameters\"]\n",
    "    result[\"N_fit\"] = gauss_plus_background(data[\"phi\"], *parameters)\n",
    "    result[\"residual\"] = (result[\"N\"] - result[\"N_fit\"]) / np.sqrt(result[\"N_fit\"])\n",
    "    fits[psi][\"chisq\"] = sum(r**2 for r in result[\"residual\"]) # Side effect!\n",
    "    nrow, ncol = data.shape\n",
    "    fits[psi][\"df\"] = nrow - 4\n",
    "    return result\n",
    "\n",
    "# Apply the function add_fitted_to_data.\n",
    "data_1 = data_1.groupby(\"psi\")[[\"psi\", \"phi\", \"N\", \"err\"]].apply(add_fitted_to_data)\n",
    "data_1.index = data_1.index.droplevel(\"psi\")\n"
   ]
  },
  {
   "cell_type": "markdown",
   "id": "3f3a6f38",
   "metadata": {},
   "source": [
    "$\\color{red}{\\textbf{Úkol:}}$ Naměřená data a nafitované funkce zobrazte v jednom grafu."
   ]
  },
  {
   "cell_type": "code",
   "execution_count": null,
   "id": "4f8b847f-6b6f-4fd0-8c7a-9b38eb055394",
   "metadata": {
    "editable": true,
    "slideshow": {
     "slide_type": ""
    },
    "tags": []
   },
   "outputs": [],
   "source": [
    "# Solution.\n",
    "\n",
    "def make_fine_plot(data):\n",
    "    '''\n",
    "    Data to draw a fitted function plot\n",
    "    '''\n",
    "    psi = np.mean(data[\"psi\"])\n",
    "    parameters = fits[psi][\"parameters\"]\n",
    "    x = np.linspace(min(data[\"phi\"]), max(data[\"phi\"]), 100)\n",
    "    y = gauss_plus_background(x, *parameters)\n",
    "    return pd.DataFrame({\"psi\": np.repeat(psi, 100), \"phi\": x, \"N_fit\": y})\n",
    "\n",
    "fine_data = data_1.groupby(\"psi\")[[\"psi\", \"phi\", \"N_fit\"]].apply(make_fine_plot)\n",
    "\n",
    "sns.set_theme(style = \"whitegrid\")\n",
    "fig, ax = plt.subplots(figsize=(8.5, 6.5))\n",
    "sns.scatterplot(data = data_1, x = \"phi\", y = \"N\", hue = \"psi\", palette = sns.color_palette(\"husl\", len(psi_vals)), ax = ax)\n",
    "sns.lineplot(data = fine_data, x = \"phi\", y = \"N_fit\", hue = \"psi\", palette = sns.color_palette(\"husl\", len(psi_vals)), ax = ax, legend = False)\n",
    "plt.xlabel(\"$\\\\phi\\\\,(\\\\degree)$\")\n",
    "plt.legend(title = \"$\\\\psi\\\\,(\\\\degree)$\")\n",
    "plt.title(\"Gaussian fits to angular profiles of coincidence rates: single source\")"
   ]
  },
  {
   "cell_type": "markdown",
   "id": "72623bd2-f2e6-49b6-b71a-e4531912d58e",
   "metadata": {
    "editable": true,
    "slideshow": {
     "slide_type": ""
    },
    "tags": []
   },
   "source": [
    "### Diagnostické grafy\n",
    "\n",
    "Nyní se budeme zabývat otázkou, zda je náš fit rozumný - zda zvolený model odpovídá naměřeným datům."
   ]
  },
  {
   "cell_type": "markdown",
   "id": "23cff58c",
   "metadata": {},
   "source": [
    "$\\color{red}{\\textbf{Úkol:}}$ Pro každý fit vypište hodnoty $\\chi^2$, počet stupňů volnosti a redukovaný $\\chi^2$."
   ]
  },
  {
   "cell_type": "code",
   "execution_count": null,
   "id": "f4332d64",
   "metadata": {},
   "outputs": [],
   "source": [
    "# Solution.\n",
    "\n",
    "# Print the chi2 and df values.\n",
    "for psi in data_1[\"psi\"].unique():\n",
    "    chi2 = fits[psi][\"chisq\"]\n",
    "    df = fits[psi][\"df\"]\n",
    "    print(f\"psi = {psi:3.0f} deg: chi2 = {chi2:6.1f}, df = {df:2d}, chi2/df = {chi2/df:5.2f}\")"
   ]
  },
  {
   "cell_type": "markdown",
   "id": "5f9b92a4",
   "metadata": {},
   "source": [
    "$\\color{red}{\\textbf{Úkol:}}$ Do jednoho grafu nakreslete reziduály pro každé úhlové rozdělení."
   ]
  },
  {
   "cell_type": "code",
   "execution_count": null,
   "id": "98b050d7-7346-4292-8aa2-84d54a0113d5",
   "metadata": {
    "editable": true,
    "slideshow": {
     "slide_type": ""
    },
    "tags": []
   },
   "outputs": [],
   "source": [
    "# Solution.\n",
    "\n",
    "fig, ax = plt.subplots(figsize = [8.5, 2.5])\n",
    "sns.lineplot(data = data_1, x = \"phi\", y = \"residual\", hue = \"psi\", palette = sns.color_palette(\"husl\", len(psi_vals)), dashes = True, ax = ax)\n",
    "plt.xlabel(\"$\\\\phi\\\\,(\\\\degree)$\")\n",
    "plt.legend(title = \"$\\\\psi\\\\,(\\\\degree)$\")\n",
    "plt.title(\"Residuals of gaussian fits to angular profiles\")"
   ]
  },
  {
   "cell_type": "markdown",
   "id": "f6ba32c2",
   "metadata": {},
   "source": [
    "$\\color{red}{\\textbf{Úkol:}}$ Pro každé úhlové rozdělení nakreslete tzv. Quantile-Quantile (QQ) graf. Opět je cílem zjistit, jestli fitovaná funkce dobře popisuje naměřená data."
   ]
  },
  {
   "cell_type": "code",
   "execution_count": null,
   "id": "e51939e9-a5bf-4310-ae66-0016a396ae88",
   "metadata": {
    "editable": true,
    "slideshow": {
     "slide_type": ""
    },
    "tags": []
   },
   "outputs": [],
   "source": [
    "# Solution.\n",
    "\n",
    "from scipy.stats import norm\n",
    "\n",
    "def make_QQ_data(data):\n",
    "    psi = np.mean(data[\"psi\"]).astype(int)\n",
    "    y = np.sort(data[\"residual\"])\n",
    "    mean, std = np.mean(y), np.std(y)\n",
    "    ppf = norm(loc=mean, scale=std).ppf # Inverse CDF\n",
    "    N = len(y)\n",
    "    x = [ppf(i / (N+2)) for i in range(1,N+1)]\n",
    "    nrow, ncol = data.shape\n",
    "    return pd.DataFrame({\"psi\": np.repeat(psi, nrow), \"x\": x, \"y\": y})\n",
    "\n",
    "qq_data = data_1.groupby(\"psi\")[[\"psi\", \"residual\"]].apply(make_QQ_data)\n",
    "   \n",
    "fig, ax = plt.subplots(figsize = [8.5, 8.5])\n",
    "sns.scatterplot(data = qq_data, x = \"x\", y = \"y\", hue = \"psi\", palette = sns.color_palette(\"husl\", len(psi_vals)), ax = ax)\n",
    "sns.lineplot(data = qq_data, x = \"x\", y = \"x\", hue = \"psi\", palette = sns.color_palette(\"husl\", len(psi_vals)), ax = ax, legend = False)\n",
    "\n",
    "# Add labels\n",
    "plt.xlabel('Normal quantiles')\n",
    "plt.ylabel('Sample quantiles')\n",
    "plt.legend(title = \"$\\\\psi\\\\,(\\\\degree)$\")\n",
    "plt.title(\"QQ plot for gaussian fits to angular profiles\")"
   ]
  },
  {
   "cell_type": "markdown",
   "id": "33e64a44",
   "metadata": {},
   "source": [
    "$\\color{red}{\\textbf{Úkol:}}$ Diskutujte kvalitu fitu a tvar naměřených úhlových rozdělení. Odpovězte mj. na následující otázky:\n",
    "\n",
    "- Je provedený fit dobrý? Mohl by být vylepšen?\n",
    "\n",
    "- Jsou profily gaussovské, nebo existuje podstatná odchylka od gaussovskosti? Proč?\n",
    "\n",
    "Hint: dobrý fit by měl splňovat následující kritéria:\n",
    "\n",
    "- Redukovaný $\\chi^2$ by měl být v rozumné blízkosti čísla 1.\n",
    "\n",
    "- 95 % normalizovaných reziduálů by mělo být mezi -2 a 2.\n",
    "\n",
    "- QQ graf by měl být přibližně lineární.\n"
   ]
  },
  {
   "cell_type": "markdown",
   "id": "c7984795",
   "metadata": {},
   "source": [
    "$\\color{red}{\\textbf{Řešení:}}$"
   ]
  },
  {
   "cell_type": "markdown",
   "id": "44413afb-52fc-4dba-9111-65a31b49714d",
   "metadata": {
    "editable": true,
    "slideshow": {
     "slide_type": ""
    },
    "tags": []
   },
   "source": [
    "### Výpočet polohy pozitronového zdroje\n",
    "\n",
    "Z naměřených úhlových rozdělení jsme pomocí fitu určili polohy maxim, $\\phi_1$ a $\\phi_2$.\n",
    "Máme tedy dvě dvojice ($\\psi_1, \\phi_1$) a ($\\psi_2, \\phi_2$), z nichž dostaneme rovnice dvou přímek.\n",
    "Obě tyto přímky spojují detektor A, zdroj pozitronů a detektor B.\n",
    "\n",
    "Nejprve si připomeňme, že rovnice každé přímky spojující detektory A a B v kartézské soustavě spojené s lebkou je\n",
    "$$\n",
    "(y_B - y_A)x - (x_B - x_A)y = (y_B - y_A)x_A - (x_B - x_A)y_A,\n",
    "$$\n",
    "kde souřadnice detektorů A a B jsou dány vztahem\n",
    "$$\n",
    "x_A = - R \\cos{\\psi} \\quad \\quad x_B = R \\cos{(\\psi + \\phi)}\n",
    "$$\n",
    "$$\n",
    "y_A = - R \\sin{\\psi} \\quad \\quad  y_B = R \\sin{(\\psi + \\phi)} \n",
    "$$\n",
    "\n"
   ]
  },
  {
   "cell_type": "markdown",
   "id": "35c38abc",
   "metadata": {},
   "source": [
    "$\\color{red}{\\textbf{Úkol:}}$ Pro každou dvojici ($\\psi_1, \\phi_1$) a ($\\psi_2, \\phi_2$) vypočítejte polohy detektorů A a B v kartézské soustavě spojené s lebkou. Výsledky vypište v tabulce."
   ]
  },
  {
   "cell_type": "code",
   "execution_count": null,
   "id": "e8fb98d2-80c0-4864-90f9-0c99fe5f6bf7",
   "metadata": {
    "editable": true,
    "slideshow": {
     "slide_type": ""
    },
    "tags": []
   },
   "outputs": [],
   "source": [
    "# Solution.\n",
    "\n",
    "from uncertainties import *\n",
    "import uncertainties.umath as umath\n",
    "\n",
    "# Distance from the center of the skull to the detectors.\n",
    "R = ufloat(15, 0.5) # We are not sure about the correct value, but the uncertainty translates directly to uncertainties in estimated positions\n",
    "\n",
    "def to_xy(R, psi, phi):\n",
    "    \"\"\"\n",
    "    For given angle positions of the skull and the movable detector arm gives \n",
    "    xy positions of centers of detector A and detector B.\n",
    "    \"\"\"\n",
    "    rad = 3.1415926 / 180.0\n",
    "    return -R * umath.cos(psi * rad),\\\n",
    "        -R * umath.sin(psi * rad),\\\n",
    "        R * umath.cos(psi * rad + phi * rad),\\\n",
    "        R * umath.sin(psi * rad + phi * rad)\n",
    "\n",
    "# ------------------------------------------------------------------------------\n",
    "# Convert fit parameters to random variables and set their correlations.\n",
    "# This will help us propagate parameter uncertainties through calculations.\n",
    "# ------------------------------------------------------------------------------\n",
    "\n",
    "rv_fits = {} # contains line points as random variables\n",
    "par_names = [\"bg\", \"amp\", \"mean\", \"std\"]\n",
    "for psi, fit in fits.items():\n",
    "    rv_list = []\n",
    "    for par, err in zip(fit[\"parameters\"], fit[\"par_errors\"]):\n",
    "        rv_list.append((par, err))\n",
    "    rv_list = correlated_values_norm(rv_list, fit[\"correlations\"])\n",
    "    rv_fits[psi] = {par_names[i]: rv_list[i] for i in range(len(rv_list))}\n",
    "\n",
    "\n",
    "# ------------------------------------------------------------------------------\n",
    "# Get the positions of detectors A and B.\n",
    "# ------------------------------------------------------------------------------\n",
    "\n",
    "points = {} # collecting random variables\n",
    "points_records = [] # collecting for table\n",
    "\n",
    "for psi, par in rv_fits.items():\n",
    "    ax, ay, bx, by = to_xy(R, psi, par[\"mean\"])\n",
    "    points[psi] = {\"A\": (ax, ay), \"B\": (bx, by)}\n",
    "    points_records.append({\n",
    "        \"𝜓 (°)\" : psi,\n",
    "        \"AB\" : \"A\", \n",
    "        \"x (cm)\" : ax.nominal_value, \n",
    "        \"𝑠ₓ (cm)\" : ax.std_dev, \n",
    "        \"y (cm)\" : ay.nominal_value, \n",
    "        \"𝑠ᵧ (cm)\" : ay.std_dev,\n",
    "    })\n",
    "    points_records.append({\n",
    "        \"𝜓 (°)\" : psi,\n",
    "        \"AB\" : \"B\", \n",
    "        \"x (cm)\" : bx.nominal_value, \n",
    "        \"𝑠ₓ (cm)\" : bx.std_dev, \n",
    "        \"y (cm)\" : by.nominal_value, \n",
    "        \"𝑠ᵧ (cm)\" : by.std_dev,\n",
    "    })\n",
    "\n",
    "points_table = pd.DataFrame.from_records(points_records)\n",
    "\n",
    "points_table.style.format(precision=2).set_caption(\"Estimated positions of detectors A and B\")"
   ]
  },
  {
   "cell_type": "markdown",
   "id": "a2d5ea78",
   "metadata": {},
   "source": [
    "Nyní snadno odvodíme rovnice obou přímek. Pro jednoduchost hledání jejich průsečíku si koeficienty vystupující v obou přímkách přeznačíme následujícím způsobem:\n",
    "$$\n",
    "a_{11}x + a_{12}y = b_1,\n",
    "$$\n",
    "$$\n",
    "a_{21}x + a_{22}y = b_2.\n",
    "$$\n",
    "Souřadnice průsečíku, $(x,y)$, těchto dvou přímek můžeme najít řešením soustavy například pomocí Cramerova pravidla.\n",
    "Toto řešení je odhadem polohy zdroje pozitronů v souřadnicovém systému lebky."
   ]
  },
  {
   "cell_type": "markdown",
   "id": "f4a6106f",
   "metadata": {},
   "source": [
    "$\\color{red}{\\textbf{Úkol:}}$ Zkonstruujte rovnice obou přímek a najděte jejich průsečík. Souřadnice průsečíku a jejich neurčitosti vypište."
   ]
  },
  {
   "cell_type": "code",
   "execution_count": null,
   "id": "6d05c5c8-af7f-4526-be01-80f9b38b19cb",
   "metadata": {
    "editable": true,
    "slideshow": {
     "slide_type": ""
    },
    "tags": []
   },
   "outputs": [],
   "source": [
    "# Solution.\n",
    "\n",
    "# X-points of pairs of lines: size-2 combinations of all psi measurements\n",
    "from itertools import combinations\n",
    "\n",
    "X_points = [] # for random variables\n",
    "rows = [] # for a table\n",
    "for psi1, psi2 in combinations(psi_vals, 2):\n",
    "    ax1, ay1 = points[psi1][\"A\"]\n",
    "    bx1, by1 = points[psi1][\"B\"]\n",
    "    ax2, ay2 = points[psi2][\"A\"]\n",
    "    bx2, by2 = points[psi2][\"B\"]\n",
    "    a = by1 - ay1\n",
    "    b = - bx1 + ax1\n",
    "    c = a * ax1 + b * ay1\n",
    "    d = by2 - ay2\n",
    "    e = - bx2 + ax2\n",
    "    f = d * ax2 + e * ay2\n",
    "    Det = e * a - b * d\n",
    "    x, y = (c * e - b * f)/Det, (a * f - c * d) / Det\n",
    "    rows.append({\n",
    "        \"ψ₁ (⁰)\": psi1, \n",
    "        \"ψ₂ (⁰)\": psi2, \n",
    "        \"x (cm)\": x.nominal_value, \"𝑠ₓ (cm)\": x.std_dev, \"y (cm)\": y.nominal_value, \"𝑠ᵧ (cm)\": y.std_dev\n",
    "    })\n",
    "    X_points.append(((c * e - b * f)/Det, (a * f - c * d) / Det))\n",
    "\n",
    "X_table = pd.DataFrame.from_records(rows)\n",
    "\n",
    "X_table.style.format(precision = 2).set_caption(\"Estimated crossing of lines through detectors\")"
   ]
  },
  {
   "cell_type": "markdown",
   "id": "af60f9b9-e6c5-4cf2-a7d1-c737d1bfb358",
   "metadata": {
    "editable": true,
    "slideshow": {
     "slide_type": ""
    },
    "tags": []
   },
   "source": [
    "$\\color{red}{\\textbf{Úkol:}}$ Zkonstruujte konfidenční elipsu pro souřadnice průsečíku (jedná se o pár náhodných proměnných s nejistotami).\n"
   ]
  },
  {
   "cell_type": "code",
   "execution_count": null,
   "id": "78e3ceec-8e58-425d-8d34-f6af7969fb2c",
   "metadata": {
    "editable": true,
    "slideshow": {
     "slide_type": ""
    },
    "tags": []
   },
   "outputs": [],
   "source": [
    "# Solution.\n",
    "\n",
    "from matplotlib.patches import Ellipse\n",
    "import matplotlib.transforms as transforms\n",
    "\n",
    "def confidence_ellipse(x, y, ax, n_std=1.0, facecolor='none', **kwargs):\n",
    "    \"\"\"\n",
    "    Create a plot of the confidence ellipse of *x* and *y*.\n",
    "   :param x, y : uncertainties random variables (scalar)\n",
    "   :param ax matplotlib.axes.Axes The Axes object to draw the ellipse into.\n",
    "   :param n_std : float The number of standard deviations to determine the ellipse's radiuses.\n",
    "   :param **kwargs Forwarded to `~matplotlib.patches.Ellipse`\n",
    "   :return matplotlib.patches.Ellipse The ellipse object.\n",
    "    \"\"\"\n",
    "  \n",
    "    cov = correlation_matrix([x, y])\n",
    "    pearson = cov[0, 1]\n",
    "    # Using a special case to obtain the eigenvalues of this\n",
    "    # two-dimensional dataset.\n",
    "    ell_radius_x = np.sqrt(1 + pearson)\n",
    "    ell_radius_y = np.sqrt(1 - pearson)\n",
    "    ellipse = Ellipse((0, 0), width=ell_radius_x * 2, height=ell_radius_y * 2,\n",
    "                      facecolor=facecolor, **kwargs)\n",
    "\n",
    "    # Calculate the standard deviation of x from the square root of the variance and multiply\n",
    "    # with the given number of standard deviations.\n",
    "    scale_x = x.std_dev * n_std\n",
    "    mean_x = x.nominal_value\n",
    "\n",
    "    # calculate the standard deviation of y ...\n",
    "    scale_y = y.std_dev * n_std\n",
    "    mean_y = y.nominal_value\n",
    "\n",
    "    transf = transforms.Affine2D() \\\n",
    "        .rotate_deg(45) \\\n",
    "        .scale(scale_x, scale_y) \\\n",
    "        .translate(mean_x, mean_y)\n",
    "\n",
    "    ellipse.set_transform(transf + ax.transData)\n",
    "    return ax.add_patch(ellipse)"
   ]
  },
  {
   "cell_type": "markdown",
   "id": "2cef089f-19ad-408b-89a4-c82495ad3f89",
   "metadata": {
    "editable": true,
    "slideshow": {
     "slide_type": ""
    },
    "tags": []
   },
   "source": [
    "$\\color{red}{\\textbf{Úkol:}}$ Nakreslete lebku a vykreslete přímky spojující detektory A a B a jejich průsečík spolu s konfidenční elipsou."
   ]
  },
  {
   "cell_type": "code",
   "execution_count": null,
   "id": "5f48adc5-2562-483e-970d-1a92efb17e1a",
   "metadata": {
    "editable": true,
    "slideshow": {
     "slide_type": ""
    },
    "tags": []
   },
   "outputs": [],
   "source": [
    "# Solution.\n",
    "\n",
    "fig, ax = plt.subplots(figsize = [8.5, 8.5])\n",
    "sns.lineplot(data = points_table, x = \"x (cm)\", y = \"y (cm)\", hue = \"𝜓 (°)\", linewidth = 0.4,\n",
    "             palette = sns.color_palette(\"husl\", len(psi_vals)))\n",
    "ax.scatter(skull_data[\"x\"], skull_data[\"y\"], marker = \".\")\n",
    "confidence_ellipse(X_points[0][0], X_points[0][1], ax, n_std = 2, \n",
    "                   edgecolor = \"black\", linewidth = 0.5)\n",
    "ax.set_aspect(\"equal\")\n",
    "plt.xlabel(\"x (cm)\")\n",
    "plt.xlim([-9, 9])\n",
    "plt.ylabel(\"y (cm)\")\n",
    "plt.ylim([-6,6])\n",
    "plt.legend(title = \"$\\\\psi$ (⁰)\")\n",
    "plt.title(\"Estimating the position of a single gamma source\")"
   ]
  },
  {
   "cell_type": "markdown",
   "id": "dbeeb426",
   "metadata": {},
   "source": [
    "$\\color{red}{\\textbf{Úkol:}}$ Diskutujte výhody a nevýhody použité metody na určení polohy zdroje pozitronů.\n",
    "Diskutujte její přesnost a možnosti jejího zlepšení.\n",
    "Odpovězte mj. na následující otázky:\n",
    "\n",
    "- Jaká je přesnost měření? Můžeme se spolehnout na chyby fitovaných parametrů?\n",
    "\n",
    "- Jak bychom mohli zlepšit přesnost? Co byste upřednostnili pro lepší odhad přesnosti měření:\n",
    "\n",
    "    - Přidat další úhlové rozdělení (změřit při jiném $\\psi$), nebo\n",
    "    \n",
    "    - Měřit úhlová rozdělení důkladněji (delší čas akumulace, menší úhlový krok)?"
   ]
  },
  {
   "cell_type": "markdown",
   "id": "78cff703",
   "metadata": {},
   "source": [
    "$\\color{red}{\\textbf{Řešení:}}$"
   ]
  },
  {
   "cell_type": "markdown",
   "id": "98e459b5",
   "metadata": {},
   "source": [
    "---\n",
    "# Měření se dvěma pozitronovými zdroji\n",
    "\n",
    "V případě N pozitronových zdrojů pozorujeme superpozici N gaussovských distribucí. Pro dva zdroje tedy očekáváme bimodální distribuci se dvěma maximy.\n",
    "\n",
    "1. Některé čáry se mohou křížit mimo lebku a taková křížení lze bezpečně ignorovat.\n",
    "\n",
    "2. Pokud mají zdroje odlišnou aktivitu, můžeme identifikovat vrcholy v úhlových rozloženích patřících jednotlivým zdrojům.\n",
    "\n",
    "3. V tomto notebooku použijeme oblasti spolehlivosti pro křížení k identifikaci těch, které jsou shodné v rámci chyby měření.\n",
    "\n",
    "**Obr. 2** Pozitronová emisní tomografie: měření se dvěma pozitronovými zdroji, používané úhlové proměnné.\n",
    "\n",
    "![Dva zdroje](two_sources.png)\n",
    "\n",
    "### Postup měření\n",
    "\n",
    "1. Poté, co instruktor umístí druhý pozitronový zdroj do modelu lebky, změřte úhlové rozdělení počtu koincidencí v rozsahu úhlů $\\phi$ a $\\psi$ potřebném k nalezení poloh obou zdrojů.\n",
    "\n",
    "2. Pomocí pravítka určete přibližnou polohu obou zdrojů pozitronů.\n",
    "\n",
    "3. Proveďte podrobnou analýzu pomocí tohoto notebooku.\n"
   ]
  },
  {
   "cell_type": "markdown",
   "id": "592302b4",
   "metadata": {},
   "source": [
    "### Měření úhlových rozdělení"
   ]
  },
  {
   "cell_type": "markdown",
   "id": "6cef5156",
   "metadata": {},
   "source": [
    "$\\color{red}{\\textbf{Úkol:}}$ Změřte úhlová rozdělení počtu koincidencí pro tři různé úhly natočení lebky vzhledem ke stolu: $\\psi_1 = 0~\\mathrm{deg}$, $\\psi_2 = 90~\\mathrm{deg}$, $\\psi_3 = 120~\\mathrm{deg}$. Naměřená data pište do stringu `data_str` níže; jeho formát je stejný jako v předchozí části."
   ]
  },
  {
   "cell_type": "code",
   "execution_count": null,
   "id": "b50ddb76",
   "metadata": {},
   "outputs": [],
   "source": [
    "# Solution.\n",
    "\n",
    "# TODO: Fill the string below with your data.\n",
    "# The string will look like the following, but with many more lines, of course:\n",
    "# data_str = \"\"\"\n",
    "# psi phi N\n",
    "# 0   -35 5\n",
    "# 0   -31 11\n",
    "# 90  -35 6\n",
    "# 90  -31 10\n",
    "# 120 -35 6\n",
    "# 120 -31 10\n",
    "# \"\"\"\n",
    "\n",
    "data_str = \"\"\"\n",
    "psi\tphi\tN\n",
    "\"\"\"\n"
   ]
  },
  {
   "cell_type": "markdown",
   "id": "fa23b3f3",
   "metadata": {},
   "source": [
    "$\\color{red}{\\textbf{Úkol:}}$ Ze stringu obsahujícího vaše data vytvořte pandas DataFrame `data_2`. Do něj přidejte také sloupec `err`, který bude obsahovat neurčitosti počtu koincidencí, které lze odhadnout jako $\\sqrt{N}$. DataFrame `data_2` vypište jako tabulku."
   ]
  },
  {
   "cell_type": "code",
   "execution_count": null,
   "id": "828239bb",
   "metadata": {
    "editable": true,
    "slideshow": {
     "slide_type": ""
    },
    "tags": []
   },
   "outputs": [],
   "source": [
    "# Solution.\n",
    "\n",
    "from io import StringIO\n",
    "\n",
    "# Create the pandas dataframe from the string above.\n",
    "data_2 = pd.read_table(StringIO(data_str), sep = \"\\s+\")\n",
    "\n",
    "# Add a column with uncertainties in counts.\n",
    "data_2[\"err\"] = np.sqrt(data_2[\"N\"])\n",
    "\n",
    "# Print data_2 as a table.\n",
    "print(data_2.rename(columns = {\"psi\": \"psi [deg]\", \"phi\": \"phi [deg]\", \"N\": \"N\", \"err\": \"N_unc\"}).to_string(index = False, max_rows = None))\n",
    "\n",
    "\n",
    "# # ---------- SAFE TO IGNORE BELOW THIS LINE ----------\n",
    "# # ALTERNATIVE SOLUTION: Read the data from a file.\n",
    "# # The file has the same format as the `data_str` string above: three columns\n",
    "# # with a header line. The columns are separated by whitespace (spaces or tabs).\n",
    "# # The header line is: \"psi phi N\".\n",
    "\n",
    "# # Path to the data file.\n",
    "# data_file = A7_home + \"/sample_data/set_A/Task2.txt\"\n",
    "\n",
    "# # Read the data of a single source angular profile from a file and convert to a pandas dataframe\n",
    "# data_2 = pd.read_table(data_file, sep = \"\\s+\")\n",
    "# print(data_2.head())\n",
    "# data_2[\"err\"] = np.sqrt(data_2[\"N\"])    # compute uncertainties in counts"
   ]
  },
  {
   "cell_type": "markdown",
   "id": "e29293e2",
   "metadata": {},
   "source": [
    "$\\color{red}{\\textbf{Úkol:}}$ Vykreslete naměřená data jako bodový graf četnosti koincidencí $N$ v závislosti na úhlu $\\phi$ pro všechny úhly $\\psi$."
   ]
  },
  {
   "cell_type": "code",
   "execution_count": null,
   "id": "d03dc4a9",
   "metadata": {},
   "outputs": [],
   "source": [
    "# Solution.\n",
    "\n",
    "psi_vals = data_2[\"psi\"].unique() # Replace psi with these values\n",
    "\n",
    "fig, ax = plt.subplots(figsize=(8.5, 6.5))\n",
    "sns.scatterplot(data = data_2, x = \"phi\", y = \"N\", hue = \"psi\", palette = sns.color_palette(\"husl\", len(psi_vals)), ax = ax)\n",
    "plt.xlabel(\"$\\\\phi$ (⁰)\")\n",
    "plt.legend(title = \"$\\\\psi$ (⁰)\")\n",
    "plt.title(\"Angular profiles of coincidence rates, 2 sources\")"
   ]
  },
  {
   "cell_type": "markdown",
   "id": "ac0e69f4",
   "metadata": {},
   "source": [
    "$\\color{red}{\\textbf{Úkol:}}$ Vysvětlete tvar naměřených úhlových rozdělení počtu koincidencí.\n"
   ]
  },
  {
   "cell_type": "markdown",
   "id": "53af8f1e",
   "metadata": {},
   "source": [
    "$\\color{red}{\\textbf{Řešení:}}$"
   ]
  },
  {
   "cell_type": "markdown",
   "id": "23247ef4",
   "metadata": {},
   "source": [
    "### Fitování dat\n",
    "\n",
    "Nyní určíme polohy maxim naměřených úhlových rozdělení.\n",
    "Budeme je odhadovat pomocí fitování.\n",
    "Fity jsou nyní ovšem poněkud komplikované, protože někdy máme jasně bimodální distribuci a někdy jsou oba zdroje blízko sebe a distribuce vypadá jako jediný široký peak. V takovém případě budeme muset fity nastavit ručně.\n",
    "\n",
    "Pokud některý fit vyjde špatně, podívejte se na graf naměřených úhlových rozdělení a upravte počáteční podmínky tak, aby odpovídaly tomu, co v něm vidíte."
   ]
  },
  {
   "cell_type": "markdown",
   "id": "e07ddc2d",
   "metadata": {},
   "source": [
    "$\\color{red}{\\textbf{Úkol:}}$ Na každé úhlové rozdělení nafitujte funkci, která je součtem dvou normálních rozdělení a konstanty. Nejprve nastavte počáteční podmínky pro každý fit podle toho, co vidíte v grafu naměřených dat. Počáteční podmínky definujte v stringu `initial_guess_str` níže. O hodnoty úhlu $\\psi$ se nestarejte, ty budou načteny z DataFrame `data_2` později; prozatím použijte libovolné hodnoty. Pokud chcete, aby fitovaná funkce pro některé rozdělení obsahovala pouze jeden gaussián, nastavte amplitudu druhého gaussiánu `amp2` na nulu. Výsledky fitů uveďte v tabulce.\n",
    "```"
   ]
  },
  {
   "cell_type": "code",
   "execution_count": null,
   "id": "c794c9ee",
   "metadata": {},
   "outputs": [],
   "source": [
    "# Solution.\n",
    "\n",
    "# TODO: Replace values in the string `initial_guess_str`` with your initial guesses for fit parameters.\n",
    "initial_guess_str = '''\n",
    "psi bg amp1 mean1 width1 amp2 mean2 width2\n",
    "psi1 5 100 -15 6 100 5 6\n",
    "psi1 5 100 -5 6 0 5 6\n",
    "psi1 5 100 -15 6 100 5 6\n",
    "'''\n",
    "\n",
    "psi_vals = data_2[\"psi\"].unique() # Replace psi with these values\n",
    "initial_guess = pd.read_csv(StringIO(initial_guess_str), sep = \"\\s+\")\n",
    "initial_guess[\"psi\"] = psi_vals\n",
    "initial_guess = initial_guess.set_index(\"psi\")\n",
    "initial_guess = initial_guess.sort_index()  # Sorting the DataFrame by the index (psi) for clarity\n",
    "initial_guess = initial_guess.reset_index()\n",
    "initial_guess.style.format(precision=2).set_caption(\"Parameters of fits to angular profiles of coincidence rates\")\n",
    "\n",
    "\n",
    "# ------------------\n",
    "# Fitting.\n",
    "# ------------------\n",
    "\n",
    "def double_gauss_plus_background(x, bg, amp1, mean1, sig1, amp2, mean2, sig2):\n",
    "    \"\"\"\n",
    "    Function returning a double gaussian with flat background, \n",
    "    Meaning of parameters is clear from the definition.\n",
    "    \"\"\"\n",
    "    return bg + amp1 * np.exp(- 1/2 * ((x-mean1)/sig1)**2) + amp2 * np.exp(- 1/2 * ((x-mean2)/sig2)**2)\n",
    "\n",
    "fits = dict.fromkeys(psi_vals)\n",
    "for psi in psi_vals:\n",
    "    data_psi = data_2[data_2[\"psi\"] == psi]\n",
    "    mid = np.sum(data_psi[\"phi\"] * data_psi[\"N\"]) / np.sum(data_psi[\"N\"])\n",
    "    top = max(data_psi[\"N\"])\n",
    "    bounds = ([0, 0,-np.inf, 0, 0, -np.inf, 0], [np.inf, np.inf, np.inf, np.inf, np.inf, np.inf, np.inf])\n",
    "    x_scale = (5, 200, 20, 7, 200, 20, 7)\n",
    "    initial_guess_psi = initial_guess[initial_guess[\"psi\"] == psi].values[0][1:] \n",
    "    if initial_guess_psi[4] != 0: # Two component fit is requested\n",
    "        try:\n",
    "            p_opt, p_cov = curve_fit(double_gauss_plus_background, data_psi[\"phi\"].values, data_psi[\"N\"].values, \n",
    "                        p0 = initial_guess_psi, \n",
    "                        sigma = data_psi[\"err\"].values, absolute_sigma = True, bounds = bounds, x_scale = x_scale)\n",
    "        except (RuntimeError, ValueError, OptimizeWarning) as e:\n",
    "            print(e)\n",
    "            print(\"Reverting to single fit for psi = \", psi)\n",
    "            bounds = (bounds[0][:4], bounds[1][:4])\n",
    "            x_scale = x_scale[:4]\n",
    "            p_opt, p_cov = curve_fit(gauss_plus_background, data_psi[\"phi\"].values, data_psi[\"N\"].values, \n",
    "                        p0 = initial_guess_psi[:4],\n",
    "                        sigma = data_psi[\"err\"].values, absolute_sigma = True)\n",
    "    else:\n",
    "        bounds = (bounds[0][:4], bounds[1][:4])\n",
    "        x_scale = x_scale[:4]\n",
    "        p_opt, p_cov = curve_fit(gauss_plus_background, data_psi[\"phi\"].values, data_psi[\"N\"].values, \n",
    "                        p0 = initial_guess_psi[:4], \n",
    "                        sigma = data_psi[\"err\"].values, absolute_sigma = True) \n",
    "\n",
    "    p_err = np.sqrt(np.diag(p_cov))\n",
    "    errXerr = np.outer(p_err, p_err)\n",
    "    p_corr = p_cov / errXerr\n",
    "    if len(p_opt) == 4:\n",
    "        p_opt = np.asarray([*p_opt, None, None, None])\n",
    "        p_err = np.asarray([*p_err, None, None, None])\n",
    "    fits[psi] = {\"parameters\": p_opt, \"par_errors\": p_err, \"correlations\" : p_corr}\n",
    "\n",
    "# No units in the header, since the table would be too broad.\n",
    "fits_table = pd.DataFrame({\n",
    "    \"𝜓 (°)\" : psi_vals,\n",
    "    \"bg\" : [fits[psi][\"parameters\"][0] for psi in psi_vals],\n",
    "    \"𝑠₍bg₎\" : [fits[psi][\"par_errors\"][0] for psi in psi_vals],\n",
    "    \"amp1\" : [fits[psi][\"parameters\"][1] for psi in psi_vals],\n",
    "    \"𝑠(amp1)\" : [fits[psi][\"par_errors\"][1] for psi in psi_vals],\n",
    "    \"mean1\" : [fits[psi][\"parameters\"][2] for psi in psi_vals],\n",
    "    \"𝑠(mean1)\" : [fits[psi][\"par_errors\"][2] for psi in psi_vals],\n",
    "    \"width1\" : [fits[psi][\"parameters\"][3] for psi in psi_vals],\n",
    "    \"𝑠(width1)\" : [fits[psi][\"par_errors\"][3] for psi in psi_vals],\n",
    "    \"amp2\" : [fits[psi][\"parameters\"][4] for psi in psi_vals],\n",
    "    \"𝑠(amp2)\" : [fits[psi][\"par_errors\"][4] for psi in psi_vals],\n",
    "    \"mean2\" : [fits[psi][\"parameters\"][5] for psi in psi_vals],\n",
    "    \"𝑠(mean2)\" : [fits[psi][\"par_errors\"][5] for psi in psi_vals],\n",
    "    \"width2\" : [fits[psi][\"parameters\"][6] for psi in psi_vals],\n",
    "    \"𝑠(width2)\" : [fits[psi][\"par_errors\"][6] for psi in psi_vals]\n",
    "})\n",
    "fits_table.style.format(precision = 2).set_caption(\"Parameters of fits to angular profiles of coincidence rates\")"
   ]
  },
  {
   "cell_type": "markdown",
   "id": "c8009e41",
   "metadata": {},
   "source": [
    "$\\color{red}{\\textbf{Úkol:}}$ Do DataFrame `data_2` přidejte:\n",
    "\n",
    "- sloupec `N_fit`, který bude obsahovat hodnoty fitované funkce v bodech $\\phi$,\n",
    "\n",
    "- sloupec `residual`, který bude obsahovat veličinu $(N - N_\\mathrm{fit}) / \\sqrt{N_\\mathrm{fit}}$, tzv. reziduály.\n",
    "\n",
    "Do dictionary `fits` přidejte hodnotu $\\chi^2$, `chisq` a počet stupňů volnosti, `df`, pro každý fit."
   ]
  },
  {
   "cell_type": "code",
   "execution_count": null,
   "id": "4b79a371-1410-4ab2-b4b2-62f03917c046",
   "metadata": {
    "editable": true,
    "slideshow": {
     "slide_type": ""
    },
    "tags": []
   },
   "outputs": [],
   "source": [
    "# Solution.\n",
    "\n",
    "def add_fitted_to_data(data):\n",
    "    '''\n",
    "    Adds fitted values and residuals to data points.\n",
    "    Also adds chi2 and df to the fits dictionary.\n",
    "    '''\n",
    "    result = data.copy()\n",
    "    psi = np.mean(result[\"psi\"])\n",
    "    parameters = fits[psi][\"parameters\"]\n",
    "    if parameters[4] is None:\n",
    "        result[\"N_fit\"] = gauss_plus_background(data[\"phi\"], *parameters[:4])\n",
    "    else:\n",
    "        result[\"N_fit\"] = double_gauss_plus_background(data[\"phi\"], *parameters)\n",
    "    result[\"residual\"] = (result[\"N\"] - result[\"N_fit\"]) / np.sqrt(result[\"N_fit\"])\n",
    "    fits[psi][\"chisq\"] = sum(r**2 for r in result[\"residual\"]) # side effect !\n",
    "    nrow, ncol = data.shape\n",
    "    fits[psi][\"df\"] = nrow - len(parameters)\n",
    "    return result\n",
    "\n",
    "data_2 = data_2.groupby(\"psi\")[[\"psi\", \"phi\", \"N\", \"err\"]].apply(add_fitted_to_data)\n",
    "data_2.index = data_2.index.droplevel(\"psi\")\n",
    "print(data_2.head())"
   ]
  },
  {
   "cell_type": "markdown",
   "id": "5097adbb",
   "metadata": {},
   "source": [
    "$\\color{red}{\\textbf{Úkol:}}$ Naměřená data a nafitované funkce zobrazte v jednom grafu."
   ]
  },
  {
   "cell_type": "code",
   "execution_count": null,
   "id": "c5f42f3d-3241-4c93-b97c-15656a373cb4",
   "metadata": {
    "editable": true,
    "slideshow": {
     "slide_type": ""
    },
    "tags": []
   },
   "outputs": [],
   "source": [
    "# Solution.\n",
    "\n",
    "def make_fine_plot(data):\n",
    "    '''\n",
    "    Data to draw a fitted function plot\n",
    "    '''\n",
    "    psi = np.mean(data[\"psi\"]).astype(int)\n",
    "    parameters = fits[psi][\"parameters\"]\n",
    "    x = np.linspace(min(data[\"phi\"]), max(data[\"phi\"]), 100)\n",
    "    if parameters[4] is None:\n",
    "        y = gauss_plus_background(x, *parameters[:4])\n",
    "    else:\n",
    "        y = double_gauss_plus_background(x, *parameters)\n",
    "    return pd.DataFrame({\"psi\": np.repeat(psi, 100), \"phi\": x, \"N_fit\": y})\n",
    "\n",
    "fine_data = data_2.groupby(\"psi\")[[\"psi\", \"phi\", \"N_fit\"]].apply(make_fine_plot)\n",
    "\n",
    "fig, ax = plt.subplots(figsize=(8.5, 6.5))\n",
    "sns.scatterplot(data = data_2, x = \"phi\", y = \"N\", hue = \"psi\", palette = sns.color_palette(\"husl\", len(psi_vals)), ax = ax)\n",
    "sns.lineplot(data = fine_data, x = \"phi\", y = \"N_fit\", hue = \"psi\", palette = sns.color_palette(\"husl\", len(psi_vals)), ax = ax, legend = False)\n",
    "plt.xlabel(\"ψ (⁰)\")\n",
    "plt.legend(title = \"ψ (⁰)\")\n",
    "plt.title(\"Gaussian fits to angular profiles of coincidence rates\")"
   ]
  },
  {
   "cell_type": "markdown",
   "id": "d0085ab4-4d4e-4d6b-b3cf-72cd7e6df31f",
   "metadata": {
    "editable": true,
    "slideshow": {
     "slide_type": ""
    },
    "tags": []
   },
   "source": [
    "### Diagnostické grafy\n",
    "\n",
    "Nyní se budeme zabývat otázkou, zda jsou naše fity rozumné - zda zvolený model odpovídá naměřeným datům."
   ]
  },
  {
   "cell_type": "markdown",
   "id": "d7efda34",
   "metadata": {},
   "source": [
    "$\\color{red}{\\textbf{Úkol:}}$ Pro každý fit vypište hodnoty $\\chi^2$, počet stupňů volnosti a redukovaný $\\chi^2$."
   ]
  },
  {
   "cell_type": "code",
   "execution_count": null,
   "id": "be57010d",
   "metadata": {},
   "outputs": [],
   "source": [
    "# Solution.\n",
    "\n",
    "# Print the chi2 and df values.\n",
    "for psi in data_2[\"psi\"].unique():\n",
    "    chi2 = fits[psi][\"chisq\"]\n",
    "    df = fits[psi][\"df\"]\n",
    "    print(f\"psi = {psi:3.0f} deg: chi2 = {chi2:6.1f}, df = {df:2d}, chi2/df = {chi2/df:5.2f}\")"
   ]
  },
  {
   "cell_type": "markdown",
   "id": "94e37c6a",
   "metadata": {},
   "source": [
    "$\\color{red}{\\textbf{Úkol:}}$ Do jednoho grafu nakreslete reziduály pro každé úhlové rozdělení."
   ]
  },
  {
   "cell_type": "code",
   "execution_count": null,
   "id": "e97fd58b-ab66-4fe4-bf42-172452cafc7c",
   "metadata": {
    "editable": true,
    "slideshow": {
     "slide_type": ""
    },
    "tags": []
   },
   "outputs": [],
   "source": [
    "# Solution.\n",
    "\n",
    "fig, ax = plt.subplots(figsize = [8.5, 2.5])\n",
    "sns.lineplot(data = data_2, x = \"phi\", y = \"residual\", hue = \"psi\", palette = sns.color_palette(\"husl\", len(psi_vals)), dashes = True, ax = ax)\n",
    "plt.xlabel(\"$\\\\phi$ (⁰)\")\n",
    "plt.legend(title = \"$\\\\psi$ (⁰)\")\n",
    "plt.title(\"Residuals of gaussian fits to angular profiles\")"
   ]
  },
  {
   "cell_type": "markdown",
   "id": "872720b8",
   "metadata": {},
   "source": [
    "$\\color{red}{\\textbf{Úkol:}}$ Pro každé úhlové rozdělení nakreslete tzv. Quantile-Quantile (QQ) graf. Opět je cílem zjistit, jestli fitované funkce dobře popisují naměřená data."
   ]
  },
  {
   "cell_type": "code",
   "execution_count": null,
   "id": "595c6537-a24b-4036-84af-16ee88694a26",
   "metadata": {
    "editable": true,
    "slideshow": {
     "slide_type": ""
    },
    "tags": []
   },
   "outputs": [],
   "source": [
    "def make_QQ_data(data):\n",
    "    psi = np.mean(data[\"psi\"]).astype(int)\n",
    "    y = np.sort(data[\"residual\"])\n",
    "    mean, std = np.mean(y), np.std(y)\n",
    "    ppf = norm(loc=mean, scale=std).ppf # Inverse CDF\n",
    "    N = len(y)\n",
    "    x = [ppf(i / (N+2)) for i in range(1,N+1)]\n",
    "    nrow, ncol = data.shape\n",
    "    return pd.DataFrame({\"psi\": np.repeat(psi, nrow), \"x\": x, \"y\": y})\n",
    "\n",
    "qq_data = data_2.groupby(\"psi\")[[\"psi\", \"residual\"]].apply(make_QQ_data)\n",
    "   \n",
    "fig, ax = plt.subplots(figsize = [8.5, 8.5])\n",
    "sns.scatterplot(data = qq_data, x = \"x\", y = \"y\", hue = \"psi\", palette = sns.color_palette(\"husl\", len(psi_vals)), ax = ax)\n",
    "sns.lineplot(data = qq_data, x = \"x\", y = \"x\", hue = \"psi\", palette = sns.color_palette(\"husl\", len(psi_vals)), ax = ax, legend = False)\n",
    "\n",
    "# Add labels\n",
    "plt.xlabel('Normal quantiles')\n",
    "plt.ylabel('Sample quantiles')\n",
    "plt.legend(title = \"ψ (⁰)\")\n",
    "plt.title(\"QQ plot for gaussian fits to angular profiles\")"
   ]
  },
  {
   "cell_type": "markdown",
   "id": "2be8c26d",
   "metadata": {},
   "source": [
    "$\\color{red}{\\textbf{Úkol:}}$ Diskutujte kvalitu fitů a tvary naměřených úhlových rozdělení. Pokud je nějaký fit špatný, přenastavte pro něj počáteční hodnoty ve stringu `initial_guess_str` výše a vše spusťte znovu. Odpovězte mj. na následující otázky:\n",
    "\n",
    "- Jsou provedené fity dobré? Mohly by být vylepšeny?\n",
    "\n",
    "- Jsou profily gaussovské, nebo existuje podstatná odchylka od gaussovskosti? Proč?\n",
    "\n",
    "Hint: dobrý fit by měl splňovat následující kritéria:\n",
    "\n",
    "- Redukovaný $\\chi^2$ by měl být v rozumné blízkosti čísla 1.\n",
    "\n",
    "- 95 % normalizovaných reziduálů by mělo být mezi -2 a 2.\n",
    "\n",
    "- QQ graf by měl být přibližně lineární.\n",
    "\n",
    "- standardní chyby parametrů by měly být rozumně nízké, tj. *ne* několikrát větší než hodnota parametru\n",
    "\n",
    "V případě špatného fitu je obvyklým řešením použít jediný gaussián namísto dvou, pokud data neumožňují nafitovat součet dvou gaussiánů. \n"
   ]
  },
  {
   "cell_type": "markdown",
   "id": "0c3481ad",
   "metadata": {},
   "source": [
    "$\\color{red}{\\textbf{Řešení:}}$"
   ]
  },
  {
   "cell_type": "markdown",
   "id": "9afff2af-ba9e-42f7-8751-857e28bf0f2a",
   "metadata": {
    "editable": true,
    "slideshow": {
     "slide_type": ""
    },
    "tags": []
   },
   "source": [
    "### Výpočet poloh pozitronových zdrojů\n",
    "\n",
    "Začneme převedením parametrů fitu na (korelované) polohy zdrojů.\n",
    "\n",
    "*Poznámka*: Dvě polohy detektoru B odpovídající dvěma gaussovským vrcholům jsou v textu i kódu níže označeny jako B a C."
   ]
  },
  {
   "cell_type": "markdown",
   "id": "cd679105",
   "metadata": {},
   "source": [
    "$\\color{red}{\\textbf{Úkol:}}$ Vypočítejte polohy detektorů A a B v kartézské soustavě spojené s lebkou. Pro detektor B budete mít dvě polohy u rozdělení, která obsahovala dvě maxima. Výsledky vypište v tabulce."
   ]
  },
  {
   "cell_type": "code",
   "execution_count": null,
   "id": "cc28f5a4-8980-4272-b833-2c1b70ee5011",
   "metadata": {
    "editable": true,
    "slideshow": {
     "slide_type": ""
    },
    "tags": []
   },
   "outputs": [],
   "source": [
    "# Solution.\n",
    "\n",
    "# ------------------------------------------------------------------------------\n",
    "# Convert fit parameters to random variables and set their correlations.\n",
    "# This will help us propagate parameter uncertainties through calculations.\n",
    "# ------------------------------------------------------------------------------\n",
    "\n",
    "rv_fits = {} # contains line points as random variables\n",
    "par_names = [\"bg\", \"amp1\", \"mean1\", \"std1\", \"amp2\", \"mean2\", \"std2\"]\n",
    "for psi, fit in fits.items():\n",
    "    rv_list = []\n",
    "    for par, err in zip(fit[\"parameters\"], fit[\"par_errors\"]):\n",
    "        if par:\n",
    "            rv_list.append((par, err))\n",
    "    rv_list = correlated_values_norm(rv_list, fit[\"correlations\"])\n",
    "    rv_fits[psi] = {par_names[i]: rv_list[i] for i in range(len(rv_list))}\n",
    "\n",
    "\n",
    "# ------------------------------------------------------------------------------\n",
    "# Get the positions of detectors A and B.\n",
    "# ------------------------------------------------------------------------------\n",
    "\n",
    "points = {} # to collect random vaariables\n",
    "records = [] # to collect data for a table\n",
    "\n",
    "for psi, par in rv_fits.items():\n",
    "    # Order here is CAB or AB, depending on whether we have two peaks or one\n",
    "    # Simplifies line plotting. \n",
    "    try:\n",
    "        ax, ay, cx, cy = to_xy(R, psi, par[\"mean2\"])\n",
    "        records.append({\n",
    "            \"ψ (⁰)\" : psi,\n",
    "            \"ABC\" : \"C\",\n",
    "            \"x (cm)\" : cx.nominal_value,\n",
    "            \"𝑠ₓ (cm)\" : cx.std_dev,\n",
    "            \"y (cm)\" : cy.nominal_value,\n",
    "            \"𝑠ᵧ (cm)\" : cy.std_dev\n",
    "        })\n",
    "        points[psi] = {\"C\": (cx, cy)}\n",
    "        C_str = f\"C: x={cx.nominal_value:.2f}+/-{cx.std_dev:.2f}, y={cy.nominal_value:.2f}+/-{cy.std_dev:.2f}\"\n",
    "    except KeyError:\n",
    "        points[psi] = {}  \n",
    "        C_str = \"\"\n",
    "    ax, ay, bx, by = to_xy(R, psi, par[\"mean1\"])\n",
    "    records.append({\n",
    "            \"ψ (⁰)\" : psi,\n",
    "            \"ABC\" : \"A\",\n",
    "            \"x (cm)\" : ax.nominal_value,\n",
    "            \"𝑠ₓ (cm)\" : ax.std_dev,\n",
    "            \"y (cm)\" : ay.nominal_value,\n",
    "            \"𝑠ᵧ (cm)\" : ay.std_dev\n",
    "        })\n",
    "    records.append({\n",
    "            \"ψ (⁰)\" : psi,\n",
    "            \"ABC\" : \"B\",\n",
    "            \"x (cm)\" : bx.nominal_value,\n",
    "            \"𝑠ₓ (cm)\" : bx.std_dev,\n",
    "            \"y (cm)\" : by.nominal_value,\n",
    "            \"𝑠ᵧ (cm)\" : by.std_dev\n",
    "        })\n",
    "    points[psi].update({\"A\": (ax, ay), \"B\": (bx, by)})\n",
    "    \n",
    "points_table = pd.DataFrame.from_records(records)\n",
    "points_table.sort_values(by = [\"ψ (⁰)\", \"ABC\"])\\\n",
    "    .style.format(precision = 2)\\\n",
    "    .set_caption(\"Estimated positions of detectors A and B/C\")"
   ]
  },
  {
   "cell_type": "markdown",
   "id": "54afb945",
   "metadata": {},
   "source": [
    "$\\color{red}{\\textbf{Úkol:}}$ Pro každý úhel natočení lebky $\\psi$ a každou polohu detektoru B (B a C) zkonstruujte rovnice přímek spojujících detektory A a B v kartézské soustavě spojené s lebkou. Nalezněte průsečíky těchto přímek a vypište je v tabulce spolu s jejich neurčitostmi."
   ]
  },
  {
   "cell_type": "code",
   "execution_count": null,
   "id": "0e65a34d-4b91-41b6-8eb1-15be11df66a0",
   "metadata": {
    "editable": true,
    "slideshow": {
     "slide_type": ""
    },
    "tags": []
   },
   "outputs": [],
   "source": [
    "# Solution.\n",
    "\n",
    "# lines connecting AB and AC for each psi\n",
    "lines = {}\n",
    "for psi in psi_vals:\n",
    "    ax1, ay1 = points[psi][\"A\"]\n",
    "    bx1, by1 = points[psi][\"B\"]\n",
    "    a = by1 - ay1\n",
    "    b = - bx1 + ax1\n",
    "    c = a * ax1 + b * ay1\n",
    "    lines[psi] = {\"AB\" : (a, b, c)}\n",
    "    try:\n",
    "        cx1, cy1 = points[psi][\"C\"]\n",
    "    except KeyError:\n",
    "        continue\n",
    "    aa = cy1 - ay1\n",
    "    bb = - cx1 + ax1\n",
    "    cc = aa * ax1 + bb * ay1\n",
    "    lines[psi][\"AC\"] = (aa, bb, cc)\n",
    "\n",
    "# X-points of pairs of lines: size-2 combinations of all psi measurements\n",
    "from itertools import product\n",
    "rows = []\n",
    "X_points = []\n",
    "for psi1, psi2 in combinations(psi_vals, 2):\n",
    "    for bc1, bc2 in product(\"BC\", repeat=2):\n",
    "        try: # some 2G fits may have failed\n",
    "            ax1, ay1 = points[psi1][\"A\"]\n",
    "            bx1, by1 = points[psi1][bc1]\n",
    "            ax2, ay2 = points[psi2][\"A\"]\n",
    "            bx2, by2 = points[psi2][bc2]\n",
    "        except KeyError:\n",
    "            continue\n",
    "        a = by1 - ay1\n",
    "        b = - bx1 + ax1\n",
    "        c = a * ax1 + b * ay1\n",
    "        d = by2 - ay2\n",
    "        e = - bx2 + ax2\n",
    "        f = d * ax2 + e * ay2\n",
    "        Det = e * a - b * d\n",
    "        x = (c * e - b * f) / Det\n",
    "        y = (a * f - c * d) / Det\n",
    "        rho = correlation_matrix([x,y])[0,1]\n",
    "        rows.append({\n",
    "            \"ψ₁ (⁰)\": psi1, \n",
    "            \"BC1\": bc1, \n",
    "            \"ψ₂ (⁰)\": psi2, \n",
    "            \"BC2\": bc2, \n",
    "            \"x (cm)\" : x.nominal_value, \n",
    "            \"sₓ (cm)\" : x.std_dev, \n",
    "            \"y (cm)\" : y.nominal_value, \n",
    "            \"sᵧ (cm)\" : y.std_dev, \n",
    "            \"ρ\" : rho\n",
    "        })\n",
    "        X_points.append((x, y))\n",
    "\n",
    "X_table = pd.DataFrame.from_records(rows)\n",
    "X_table.style.format(precision = 2).set_caption(\"Estimated crossing of lines through detectors\")"
   ]
  },
  {
   "cell_type": "markdown",
   "id": "04dfbe5b-fdb2-4e13-8b79-4452844204ee",
   "metadata": {
    "editable": true,
    "slideshow": {
     "slide_type": ""
    },
    "tags": []
   },
   "source": [
    "$\\color{red}{\\textbf{Úkol:}}$ Nakreslete lebku a vykreslete přímky spojující detektory A a B a jejich průsečíky.\n"
   ]
  },
  {
   "cell_type": "code",
   "execution_count": null,
   "id": "9894c342-1408-4f23-9c70-cc64c7beb7df",
   "metadata": {
    "editable": true,
    "slideshow": {
     "slide_type": ""
    },
    "tags": []
   },
   "outputs": [],
   "source": [
    "# Solution.\n",
    "\n",
    "fig, ax = plt.subplots(figsize = [8.5, 8.5])\n",
    "sns.lineplot(data = points_table, x = \"x (cm)\", y = \"y (cm)\", hue = \"ψ (⁰)\", \n",
    "             sort = False, palette = sns.color_palette(\"husl\", len(psi_vals)),\n",
    "            linewidth = 0.4)\n",
    "ax.scatter(skull_data[\"x\"], skull_data[\"y\"], marker = \".\")\n",
    "cmap = mpl.colormaps[\"coolwarm\"]\n",
    "colors = cmap(np.linspace(0, 1, len(X_points)))\n",
    "for xy, color in zip(X_points, colors):\n",
    "    x, y = xy\n",
    "    confidence_ellipse(x, y, ax, n_std = 1, edgecolor = \"black\", linewidth = 0.5)\n",
    "ax.set_aspect(\"equal\")\n",
    "plt.xlabel(\"x [cm]\")\n",
    "plt.xlim([-9, 9])\n",
    "plt.ylabel(\"y [cm]\")\n",
    "plt.ylim([-6,6])\n",
    "plt.legend(title = \"ψ (⁰)\")\n",
    "plt.title(\"Lines through detectors A and B/C and their crossing point\")"
   ]
  },
  {
   "cell_type": "markdown",
   "id": "219cf87a-02ed-4613-9ce4-63ef7ab29242",
   "metadata": {
    "editable": true,
    "slideshow": {
     "slide_type": ""
    },
    "tags": []
   },
   "source": [
    "$\\color{red}{\\textbf{Úkol:}}$ Odhadněte souřadnice obou zdrojů pozitronů v souřadné soustavě lebky. Navrhněte vhodný způsob, jak toho docílit. Diskutujte vámi zvolený postup, jeho výsledky a přesnost.\n",
    "\n",
    "Poznámky:\n",
    "\n",
    "- Pravděpodobně nevidíte přesné trojcestné křižovatky, ale přímky by se měly křížit v malé oblasti. Rozhodněte se, které přímky odpovídají kterému zdroji, a určete polohy obou zdrojů.\n",
    "\n",
    "- Číselné hodnoty souřadnic všech průsečíků a jejich neurčitosti naleznete v tabulce výše.\n",
    "\n",
    "- Proveďte váš odhad, přestože metoda Radonovy transformace pravděpodobně poskytne odhad lepší - na konci budete muset oba výsledky porovnat. \n",
    "\n",
    "- Pokud v obrázku výše vidíte velmi velké elipsy spolehlivosti, nejpravděpodobnější příčinou je, že jste fitovali součet dvou gaussiánů na data, na která to není vhodné. Vraťte se zpět a nastavte počáteční parametry tak, aby se na rozdělení, na kterém je vidět jen jeden gaussián, fitoval skutečně jen jeden."
   ]
  },
  {
   "attachments": {
    "image-2.png": {
     "image/png": "[encoded data removed]"
    },
    "image.png": {
     "image/png": "[encoded data removed]"
    }
   },
   "cell_type": "markdown",
   "id": "19cc46ac",
   "metadata": {},
   "source": [
    "---\n",
    "---\n",
    "### Radonova transformace\n",
    "Radonova transformace funkce $g(x,y)$ definované na 2D rovině je\n",
    "\n",
    "$$\n",
    "g(p, \\tau) = \\int_{E^2} g(x,y) \\delta(y - px - \\tau) dx dy\n",
    "$$\n",
    "\n",
    "$g(p,\\tau)$ je integrál funkce $g(x,y)$ podél přímky $y = px + \\tau$. \n",
    "\n",
    "Radonova transformace je lineární zobrazení. Použijeme dvě důležité vlastnosti Radonovy transformace:\n",
    "\n",
    "1. Obraz bodového zdroje v bodě $(x^*, y^*)$, tj. $g(x,y) = \\delta(x - x^*)\\delta(y - y^*)$, je přímka $\\tau = -x^*p + y^*$ v Radonově rovině, tj. přímka se sklonem $-x^*$ a průsečíkem $y^*$.\n",
    "\n",
    "![image.png](attachment:image.png)\n",
    "\n",
    "2. Obraz přímky $y = p^*x + \\tau^*$ v $E^2$ je bod $(p^*, \\tau^*)$ v Radonově rovině. \n",
    "\n",
    "![image-2.png](attachment:image-2.png)\n",
    "\n",
    "Obě vlastnosti lze snadno dokázat z definice. \n",
    "\n",
    "V úkolech výše jsme rekonstruovali několik přímek mezi detektory A, B. Jejich Radonovy transformace budou body a lze je snadno vypočítat. \n",
    "\n",
    "Pokud existují dva zdroje, body budou ležet na dvou přímkách - obrazech dvou bodů v $E^2$ představujících polohy obou zdrojů. \n",
    "\n",
    "Jelikož nemusí být zřejmé, která dvojice přímek je správná, vyzkoušíme všechny kandidáty a vybereme dvojici, která poskytuje nejlepší fit metodou nejmenších čtverců. Fit implementujeme sami, abychom mohli použít nejistoty náhodných proměnných a získat dobré odhady chyb pro naše výsledky. Implementace je níže.\n"
   ]
  },
  {
   "cell_type": "code",
   "execution_count": null,
   "id": "d1f6bcc0",
   "metadata": {},
   "outputs": [],
   "source": [
    "def least_squares_solution(a1, b1, c1, a2, b2, c2, a3, b3, c3):\n",
    "    '''\n",
    "    Given 3 lines, a1*x + b1*y = c1, a2*x + b2*y = c2, a3*x + b3*y = c3, find their intersection \n",
    "    in the least-squares sense - that is, solve the system of 3 equations for the unknowns x, y.\n",
    "    :param a1, ... c3 scalars, coefficients of the 3 equations\n",
    "    :return (x,y) Least-squares estimates of x, y.\n",
    "    Note: no least-squares routine is called so that a1, ... c3 can be uncertainties random variables. \n",
    "    Note: this only works with 3 lines, that is, measurements from 3 psi values.\n",
    "    '''\n",
    "    # Normalize (neutral operation)\n",
    "    n1 = umath.sqrt(a1**2 + b1**2)\n",
    "    a1 = a1 / n1\n",
    "    b1 = b1 / n1\n",
    "    c1 = c1 / n1\n",
    "    n2 = umath.sqrt(a2**2 + b2**2)\n",
    "    a2 = a2 / n2\n",
    "    b2 = b2 / n2\n",
    "    c2 = c2 / n2\n",
    "    n3 = umath.sqrt(a3**2 + b3**2)\n",
    "    a3 = a3 / n3\n",
    "    b3 = b3 / n3\n",
    "    c3 = c3 / n3\n",
    "\n",
    "    # Compute components of AtA\n",
    "    M11 = a1**2 + a2**2 + a3**2\n",
    "    M12 = a1*b1 + a2*b2 + a3*b3\n",
    "    M21 = M12  # Symmetric matrix\n",
    "    M22 = b1**2 + b2**2 + b3**2\n",
    "\n",
    "    # Compute determinant of AtA\n",
    "    detM = M11 * M22 - M12 * M21\n",
    "\n",
    "    # Compute Atc\n",
    "    v1 = a1*c1 + a2*c2 + a3*c3\n",
    "    v2 = b1*c1 + b2*c2 + b3*c3\n",
    "\n",
    "    # Compute least-squares solution\n",
    "    x = (M22 * v1 - M12 * v2) / detM\n",
    "    y = (-M21 * v1 + M11 * v2) / detM\n",
    "\n",
    "    chi2 = (c1 - a1*x - b1*y)**2 + (c2 - a2*x - b2*y)**2 + (c3 - a3*x - b3*y)**2\n",
    "\n",
    "    return x, y, chi2\n"
   ]
  },
  {
   "cell_type": "markdown",
   "id": "7bf891b2",
   "metadata": {},
   "source": [
    "$\\color{red}{\\textbf{Úkol:}}$ Sestavte všechny alternativní kombinace bodů/přímek, které reprezentují dva zdroje, a vyberte ty, které dávají nejlepší shodu.\n"
   ]
  },
  {
   "cell_type": "code",
   "execution_count": null,
   "id": "0ae8289c",
   "metadata": {},
   "outputs": [],
   "source": [
    "# Solution.\n",
    "\n",
    "from itertools import permutations\n",
    "\n",
    "\n",
    "contents = [] # Collecting keys A,B/C of lines for each psi\n",
    "for psi in psi_vals:\n",
    "    contents.append(list(lines[psi].keys()))\n",
    "max_content = len(max(contents, key = len))\n",
    "slices = [None] * len(psi_vals) # Collecting slices for alternative sets of pq lines\n",
    "slices[0] = [contents[0]] # No permutation for the first psi\n",
    "for i_psi in range(1, len(psi_vals)):\n",
    "    if len(contents[i_psi]) == max_content:\n",
    "        slices[i_psi] = list(permutations(contents[i_psi]))\n",
    "    else:\n",
    "        slices[i_psi] = list(product(contents[i_psi], repeat = max_content)) # if not enough values use product\n",
    "print(\"Slices:\")\n",
    "print(slices)\n",
    "\n",
    "pq_lines = [list(zip(*slice)) for slice in list(product(*slices))] # Combine slices to sets of lines\n",
    "print(\"Possible sets of Hough space lines:\")\n",
    "print(pq_lines)\n",
    "\n",
    "# Fund the set of lines with minimum chi2\n",
    "min_set_chi2 = np.inf # minimum sum chi2 found for a set of lines\n",
    "min_set_points = None\n",
    "for ils, line_set in enumerate(pq_lines):\n",
    "    total_chi2 = 0\n",
    "    point_set = []\n",
    "    for line in line_set:\n",
    "        pq_points = []\n",
    "        for i, psi in enumerate(psi_vals):\n",
    "            a, b, c = lines[psi][line[i]]\n",
    "            p = -a/b # Radon transform the line\n",
    "            q = c/b\n",
    "            pq_points.extend([p, 1, q])\n",
    "        slope, intercept, chi2 = least_squares_solution(*pq_points)  # fit line in pq space\n",
    "        total_chi2 += chi2  # chi2 as rv, we take mean later\n",
    "        xy_point = (-slope, intercept)  # back to xy space\n",
    "        point_set.append((*xy_point, chi2))\n",
    "    if total_chi2.nominal_value < min_set_chi2:\n",
    "        min_set_chi2 = total_chi2.nominal_value\n",
    "        min_set_points = point_set.copy()\n",
    "print(\"Minimum chi2 set:\")\n",
    "print(f\"{min_set_chi2=}\")\n",
    "for x, y, chi2 in min_set_points:\n",
    "    print(f\"{x.nominal_value:.2f} +/- {x.std_dev:.2f}, {y.nominal_value:.2f} +/- {y.std_dev:.2f}, {chi2.nominal_value:.2f}\")\n",
    "    \n"
   ]
  },
  {
   "cell_type": "markdown",
   "id": "b2fe933f",
   "metadata": {},
   "source": [
    "$\\color{red}{\\textbf{Úkol:}}$ Vše vykreslete a udělejte pěknou tabulku.\n"
   ]
  },
  {
   "cell_type": "code",
   "execution_count": null,
   "id": "d9644e85",
   "metadata": {},
   "outputs": [],
   "source": [
    "# Solution.\n",
    "\n",
    "fig, ax = plt.subplots(figsize = [8.5, 8.5])\n",
    "colors = sns.color_palette(\"husl\", 3*len(psi_vals))\n",
    "colors_1 = colors[::3]\n",
    "colors_2 = colors[1::3]\n",
    "for psi, color1, color2 in zip(psi_vals, colors_1, colors_2):\n",
    "    a, b, c = lines[psi][\"AB\"]\n",
    "    p = - a / b # slope, x-coordinae in Radon space\n",
    "    tau = c / b # y-intercept, y-coordinate in Radon space\n",
    "    plt.scatter([p.nominal_value], [tau.nominal_value], color = color1, s = 2, label = f\"$\\\\psi = {psi}, AB$\")\n",
    "    confidence_ellipse(p, tau, ax, n_std = 1, edgecolor = color1, linewidth = 0.5)\n",
    "    try:\n",
    "        a, b, c = lines[psi][\"AC\"]\n",
    "        p = - a / b\n",
    "        tau = c / b\n",
    "        plt.scatter([p.nominal_value], [tau.nominal_value], color = color2, s = 2, label = f\"$\\\\psi = {psi}, AC$\")\n",
    "        confidence_ellipse(p, tau, ax, n_std = 1, edgecolor = color2, linewidth = 0.5)\n",
    "    except KeyError:\n",
    "        continue\n",
    "point_set_colors = sns.color_palette(\"husl\", len(min_set_points))\n",
    "for i, (x, y, chi2) in enumerate(min_set_points):\n",
    "    slope = -x.nominal_value\n",
    "    intercept = y.nominal_value\n",
    "    plt.axline((0, intercept), slope = slope, linewidth = 0.3, color = colors[i])\n",
    "#ax.set_aspect(\"equal\")\n",
    "plt.xlabel(\"p\")\n",
    "plt.xlim(-20, 20)\n",
    "plt.ylabel(\"q (cm)\")\n",
    "plt.ylim(-20, 20)\n",
    "plt.legend(title = \"$\\\\psi$ (⁰)\")\n",
    "plt.title(\"Lines through detectors A and B/C in Hough space\")"
   ]
  },
  {
   "cell_type": "code",
   "execution_count": null,
   "id": "0785b040",
   "metadata": {},
   "outputs": [],
   "source": [
    "# Solution.\n",
    "\n",
    "fig, ax = plt.subplots(figsize = [8.5, 8.5])\n",
    "ax.scatter(skull_data[\"x\"], skull_data[\"y\"], marker = \".\")\n",
    "point_set_colors = sns.color_palette(\"husl\", len(min_set_points))\n",
    "for i, (x, y, chi2) in enumerate(min_set_points):\n",
    "    plt.scatter([x.nominal_value], [y.nominal_value], s = 0.5, color = point_set_colors[i])\n",
    "    confidence_ellipse(x, y, ax, n_std = 1, edgecolor = \"black\", linewidth = 0.5)\n",
    "ax.set_aspect(\"equal\")\n",
    "plt.xlabel(\"x [cm]\")\n",
    "plt.xlim([-9, 9])\n",
    "plt.ylabel(\"y [cm]\")\n",
    "plt.ylim([-6,6])\n",
    "plt.title(\"Radon transform estimates of source positions\")"
   ]
  },
  {
   "cell_type": "code",
   "execution_count": null,
   "id": "ea37f6a6",
   "metadata": {},
   "outputs": [],
   "source": [
    "# Solution.\n",
    "\n",
    "rows = []\n",
    "for x, y, chi2 in min_set_points:\n",
    "    rho = correlation_matrix([x, y])[0,1]\n",
    "    rows.append({\n",
    "        \"x (cm)\" : x.nominal_value,\n",
    "        \"𝑠ₓ (cm)\" : x.std_dev,\n",
    "        \"y (cm)\" : y.nominal_value,\n",
    "        \"𝑠ᵧ (cm)\" : y.std_dev,\n",
    "        \"ρ\" : rho\n",
    "    })\n",
    "radon_table = pd.DataFrame.from_records(rows)\n",
    "radon_table.style.format(precision = 2).set_caption(\"Estimated position of sources by Radon transform\")"
   ]
  },
  {
   "cell_type": "markdown",
   "id": "cec2de41",
   "metadata": {},
   "source": [
    "$\\color{red}{\\textbf{Úkol:}}$ Diskutujte provedené měření. Odpovězte mj. na následující otázky:\n",
    "\n",
    "- Jaká je přesnost měření? Můžeme se spolehnout na neurčitosti parametrů fitů?\n",
    "\n",
    "- Pokud byl první zdroj pozitronů ponechán na místě od prvního měření: jsou pozice z prvního a druhého měření konzistentní?\n",
    "\n",
    "- Je výsledek konzistentní s odhadem průsečíků přímek založeným na rýsování na papír?\n",
    "\n",
    "- Požádejte instruktora, aby pro vás otevřel model lebky. Pomocí pravítka změřte skutečné polohy pozitronových zdrojů. Odpovídají vaše měření realitě?\n",
    "\n",
    "- Jak můžeme zlepšit přesnost/identifikaci? Co byste zvolili pro lepší odhad přesnosti měření:\n",
    "\n",
    "    - Přidat další úhlové rozdělení (měření při jiném $\\psi$), nebo\n",
    "\n",
    "    - Měřit úhlová rozdělení důkladněji (delší doba akvizice, menší úhlový krok)?\n",
    "\n",
    "    - nebo další zlepšení?\n",
    "    \n",
    "- Co kdybychom měli více zdrojů záření? Jaký je rozumný horní limit počtu zdrojů, jejichž polohy můžeme současně měřit?"
   ]
  },
  {
   "cell_type": "markdown",
   "id": "0a2c4855",
   "metadata": {},
   "source": [
    "$\\color{red}{\\textbf{Řešení:}}$"
   ]
  },
  {
   "cell_type": "markdown",
   "id": "74bb6860",
   "metadata": {},
   "source": [
    "$\\color{red}{\\textbf{Úkol:}}$ Sepište závěr."
   ]
  },
  {
   "cell_type": "markdown",
   "id": "3ace5a3b",
   "metadata": {},
   "source": [
    "$\\color{red}{\\textbf{Řešení:}}$\n",
    "\n",
    "# Závěr"
   ]
  },
  {
   "cell_type": "markdown",
   "id": "3bedcfd2",
   "metadata": {},
   "source": [
    "# Literatura\n",
    "\n",
    "[1] P. Kvasnička, V. Vorobel et al., Studijní text k úloze A7, https://physics.mff.cuni.cz/vyuka/zfp/zadani/407, verze z 24.10.2022"
   ]
  }
 ],
 "metadata": {
  "kernelspec": {
   "display_name": "praktikum",
   "language": "python",
   "name": "praktikum"
  },
  "language_info": {
   "codemirror_mode": {
    "name": "ipython",
    "version": 3
   },
   "file_extension": ".py",
   "mimetype": "text/x-python",
   "name": "python",
   "nbconvert_exporter": "python",
   "pygments_lexer": "ipython3",
   "version": "3.9.21"
  }
 },
 "nbformat": 4,
 "nbformat_minor": 5
}
